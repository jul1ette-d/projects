{
 "cells": [
  {
   "cell_type": "raw",
   "id": "d303bc15",
   "metadata": {},
   "source": [
    "---\n",
    "title: \"Test-Post\"\n",
    "author: \"Juliette Degoul\"\n",
    "date: \"2023-06-19\"\n",
    "format: html\n",
    "execute:\n",
    " enabled: true\n",
    "categories: [news]\n",
    "---"
   ]
  },
  {
   "cell_type": "markdown",
   "id": "a0df2e15",
   "metadata": {},
   "source": [
    "### Test if a post"
   ]
  },
  {
   "cell_type": "code",
   "execution_count": 1,
   "id": "6161b80c",
   "metadata": {},
   "outputs": [],
   "source": [
    "import pandas as pd\n",
    "import matplotlib.pyplot as plt\n"
   ]
  },
  {
   "cell_type": "code",
   "execution_count": null,
   "id": "d575dcca",
   "metadata": {},
   "outputs": [],
   "source": []
  }
 ],
 "metadata": {
  "kernelspec": {
   "display_name": "Python 3 (ipykernel)",
   "language": "python",
   "name": "python3"
  },
  "language_info": {
   "codemirror_mode": {
    "name": "ipython",
    "version": 3
   },
   "file_extension": ".py",
   "mimetype": "text/x-python",
   "name": "python",
   "nbconvert_exporter": "python",
   "pygments_lexer": "ipython3",
   "version": "3.9.13"
  }
 },
 "nbformat": 4,
 "nbformat_minor": 5
}
